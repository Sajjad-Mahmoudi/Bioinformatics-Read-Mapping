{
 "cells": [
  {
   "cell_type": "markdown",
   "id": "according-dollar",
   "metadata": {},
   "source": [
    "## Introduction\n",
    "This is an implementation to align the reads of a fasq file on the one chromosome \"chr2L\" of D melanogaster of a fasta file. <br>\n",
    "To show how each part 's output is, there is a sample output of each part with a short description in the related output box. <br>\n",
    "Please note that this work is for only reduced data set (mini datasets in ReadMe.pdf), that is, \"dm6_chr2L.fasta\" and \"10k_reads.fastq\""
   ]
  },
  {
   "cell_type": "code",
   "execution_count": 1,
   "id": "fourth-journal",
   "metadata": {},
   "outputs": [],
   "source": [
    "import numpy as np\n",
    "import sys\n",
    "from collections import defaultdict\n",
    "import timeit"
   ]
  },
  {
   "cell_type": "markdown",
   "id": "rotary-innocent",
   "metadata": {},
   "source": [
    "## Read the \"fasta\" file"
   ]
  },
  {
   "cell_type": "code",
   "execution_count": 3,
   "id": "opposite-extreme",
   "metadata": {},
   "outputs": [
    {
     "name": "stdout",
     "output_type": "stream",
     "text": [
      "This is the first 100 nucleotides out of 23513712 nucleotides of the chr2L chromosome:\n",
      "CGACAATGCACGACAGAGGAAGCAGAACAGATATTTAGATTGCCTCTCATTTTCTCTCCCATATTATAGGGAGAAATATGATCGCGTATGCGAGAGTAGT \n",
      "\n",
      "Time (sec):  14.262\n"
     ]
    }
   ],
   "source": [
    "# read the chromosome (genome) and make its characters capital\n",
    "start = timeit.default_timer()\n",
    "\n",
    "with open(\"chr2L.fasta\", 'r') as g:\n",
    "    genome = ''\n",
    "    for line in g.readlines()[1:]:\n",
    "        genome += line.strip()\n",
    "genome = genome.upper()\n",
    "\n",
    "print(f\"This is the first 100 nucleotides out of {len(genome)} nucleotides of the chr2L chromosome:\")\n",
    "print(genome[:100], '\\n')\n",
    "stop = timeit.default_timer()\n",
    "print('Time (sec): ', round(stop - start, 3))"
   ]
  },
  {
   "cell_type": "markdown",
   "id": "beautiful-string",
   "metadata": {},
   "source": [
    "## Construct suffix array\n",
    "Please note that the performance of \"function_suffix_array\" function is tested by couple of different simple samples such as: <br>\n",
    "'ATATA', 'banana', and/or 'Mississippi'"
   ]
  },
  {
   "cell_type": "code",
   "execution_count": 4,
   "id": "sapphire-belief",
   "metadata": {},
   "outputs": [
    {
     "name": "stdout",
     "output_type": "stream",
     "text": [
      "the first 5 elements of the suffix array for the chr2L:\n",
      " [10947977, 10947978, 10947979, 10947980, 10947981]\n",
      "\n",
      "Time (sec):  87.577\n"
     ]
    }
   ],
   "source": [
    "# this function is inspired from \"http://algorithmicalley.com/archive/2013/06/30/suffix-arrays.aspx\" \n",
    "start = timeit.default_timer()\n",
    "\n",
    "def function_suffix_array(g, bucket, order=1):\n",
    "    dict_bucket = defaultdict(list)\n",
    "    for i in bucket:\n",
    "        nucleotide = g[i: i+order]\n",
    "        dict_bucket[nucleotide].append(i)\n",
    "    suffix_array = list()\n",
    "    for nt, indexList in sorted(dict_bucket.items()):\n",
    "        if len(indexList) > 1:\n",
    "            suffix_array += function_suffix_array(g, indexList, order*2)\n",
    "        else:\n",
    "            suffix_array.append(indexList[0])\n",
    "    \n",
    "    return suffix_array\n",
    "\n",
    "suffix_array = function_suffix_array(genome, range(len(genome)))\n",
    "print(f\"the first 5 elements of the suffix array for the chr2L:\\n {suffix_array[:5]}\\n\")\n",
    "\n",
    "stop = timeit.default_timer()\n",
    "print('Time (sec): ', round(stop - start, 3))"
   ]
  },
  {
   "cell_type": "markdown",
   "id": "lesser-occasion",
   "metadata": {},
   "source": [
    "## Read the \"fastq\" file"
   ]
  },
  {
   "cell_type": "code",
   "execution_count": 5,
   "id": "frozen-sharp",
   "metadata": {},
   "outputs": [
    {
     "name": "stdout",
     "output_type": "stream",
     "text": [
      "the first 3 reads of the fastq file:\n",
      "['TTCACCCTATAATATGGGAGAGAAAATGAGAGGCAA', 'TCTCGCATACGCGATCATATTTCACCCTATAATATG', 'TCTCGCATACGCGATCATATTTCACCCTATAATATG']\n"
     ]
    }
   ],
   "source": [
    "with open('10k_reads.fastq', 'r') as read:\n",
    "    temp = read.readlines()\n",
    "    list_reads = [r[:-1] for r in temp[1::4]]\n",
    "print(f\"the first 3 reads of the fastq file:\\n{list_reads[:3]}\")"
   ]
  },
  {
   "cell_type": "markdown",
   "id": "defensive-priest",
   "metadata": {},
   "source": [
    "## Matching\n",
    "Please note that the performance of \"find_index\" and/or \"matching\" function is tested by different simple samples and very famous methods like below: <br> \n",
    "looking for 'bc' in the string 'abccbcdfghhiiibc', using regular expression:"
   ]
  },
  {
   "cell_type": "raw",
   "id": "accessory-solution",
   "metadata": {},
   "source": [
    "import re\n",
    "string = 'abccbcdfghhiiibc'\n",
    "[match.start() for match in re.finditer('bc', string)]"
   ]
  },
  {
   "cell_type": "code",
   "execution_count": 37,
   "id": "ignored-oliver",
   "metadata": {
    "scrolled": true
   },
   "outputs": [
    {
     "name": "stdout",
     "output_type": "stream",
     "text": [
      "the suffix array index of the read 200: [12344]\n",
      "\n",
      "Time (sec):  0.073\n"
     ]
    }
   ],
   "source": [
    "# this function is implemented based on binary search method\n",
    "start = timeit.default_timer()\n",
    "\n",
    "def find_index(suffix_array, read, genome):\n",
    "    \n",
    "    index_start = 0\n",
    "    index_end = len(suffix_array)\n",
    "    read_length = len(read)\n",
    "    result = []\n",
    "    \n",
    "    while index_start <= index_end:\n",
    "        index_mid = (index_start + index_end) // 2\n",
    "        if genome[suffix_array[index_mid]: suffix_array[index_mid] + read_length] == read:\n",
    "            result.append(suffix_array[index_mid])\n",
    "            if genome[suffix_array[index_start]: suffix_array[index_start] + read_length] == read:\n",
    "                result.extend(suffix_array[i] for i in range(index_start, index_mid))\n",
    "            elif genome[suffix_array[index_end]: suffix_array[index_end] + read_length] == read:\n",
    "                result.extend(suffix_array[i] for i in range(index_mid+1, index_end)) \n",
    "            elif genome[suffix_array[index_mid]: ] < read:\n",
    "                for i in range(index_mid+1, index_end):\n",
    "                    if genome[suffix_array[i]: suffix_array[i] + read_length] == read:\n",
    "                        result.append(suffix_array[i])\n",
    "            elif genome[suffix_array[index_mid]: ] > read:\n",
    "                for i in range(index_start, index_mid):\n",
    "                    if genome[suffix_array[i]: suffix_array[i] + read_length] == read:\n",
    "                        result.append(suffix_array[i])\n",
    "            break\n",
    "            \n",
    "        elif genome[suffix_array[index_mid]: ] < read: \n",
    "            index_start = index_mid + 1\n",
    "        elif genome[suffix_array[index_mid]: ] > read: \n",
    "            index_end = index_mid - 1\n",
    "            \n",
    "    return sorted(result)\n",
    "\n",
    "def matching(read):\n",
    "    return find_index(suffix_array, read, genome)\n",
    "\n",
    "index_200 = matching(list_reads[200])\n",
    "print(f'the suffix array index of the read 200: {index_200}\\n')\n",
    "\n",
    "stop = timeit.default_timer()\n",
    "print('Time (sec): ', round(stop - start, 3))"
   ]
  },
  {
   "cell_type": "code",
   "execution_count": 34,
   "id": "reasonable-trustee",
   "metadata": {},
   "outputs": [
    {
     "name": "stdout",
     "output_type": "stream",
     "text": [
      "TAAAACCATGATATCGCCCATATTCGTTAAACATAT\n",
      "TAAAACCATGATATCGCCCATATTCGTTAAACATAT\n",
      "\n",
      "Is the read 200 matched with the corresponding suffix of the genome? True\n"
     ]
    }
   ],
   "source": [
    "# check if the corresponding suffix of the index found by the function \"matching\" is really matched with the read\n",
    "read_length = len(list_reads[0])\n",
    "r = list_reads[200]\n",
    "su = genome[12344: 12344 + read_length]\n",
    "print(r)\n",
    "print(su)\n",
    "print('\\nIs the read 200 matched with the corresponding suffix of the genome?', r == su)"
   ]
  },
  {
   "cell_type": "markdown",
   "id": "productive-sweet",
   "metadata": {},
   "source": [
    "## Conclusion\n",
    "This section is dedicated to how many reads of fastq file is mapped to fasta file "
   ]
  },
  {
   "cell_type": "code",
   "execution_count": 35,
   "id": "ethical-fancy",
   "metadata": {},
   "outputs": [
    {
     "name": "stdout",
     "output_type": "stream",
     "text": [
      "the number of reads which are found at least one time in the fasta file: 6339\n",
      "\n",
      "the percentage of reads mapped = 63.0\n",
      "Time (sec):  983.023\n"
     ]
    }
   ],
   "source": [
    "start = timeit.default_timer()\n",
    "\n",
    "counter = 0\n",
    "for i in range(len(list_reads)):\n",
    "    read = list_reads[i]\n",
    "    list_idx = matching(read)\n",
    "    if not list_idx: \n",
    "        counter += 1\n",
    "print(f'the number of reads which are found at least one time in the fasta file: {counter}')\n",
    "print(f'\\nthe percentage of reads mapped = {round(counter/10000,2) * 100}')\n",
    "\n",
    "stop = timeit.default_timer()\n",
    "print('Time (sec): ', round(stop - start, 3))"
   ]
  }
 ],
 "metadata": {
  "kernelspec": {
   "display_name": "Python 3 (ipykernel)",
   "language": "python",
   "name": "python3"
  },
  "language_info": {
   "codemirror_mode": {
    "name": "ipython",
    "version": 3
   },
   "file_extension": ".py",
   "mimetype": "text/x-python",
   "name": "python",
   "nbconvert_exporter": "python",
   "pygments_lexer": "ipython3",
   "version": "3.8.5"
  },
  "toc": {
   "base_numbering": 1,
   "nav_menu": {},
   "number_sections": true,
   "sideBar": true,
   "skip_h1_title": false,
   "title_cell": "Table of Contents",
   "title_sidebar": "Contents",
   "toc_cell": false,
   "toc_position": {},
   "toc_section_display": true,
   "toc_window_display": false
  }
 },
 "nbformat": 4,
 "nbformat_minor": 5
}
